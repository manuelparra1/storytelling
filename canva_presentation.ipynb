{
 "cells": [
  {
   "cell_type": "code",
   "execution_count": 198,
   "id": "62c95bd4",
   "metadata": {},
   "outputs": [],
   "source": [
    "import pandas as pd\n",
    "import numpy as np\n",
    "\n",
    "import matplotlib.pyplot as plt\n",
    "import seaborn as sns\n",
    "\n",
    "#from sklearn.model_selection import train_test_split\n",
    "\n",
    "import acquire\n",
    "import prepare\n",
    "\n",
    "from scipy import stats"
   ]
  },
  {
   "cell_type": "code",
   "execution_count": 227,
   "id": "75e0e4f6",
   "metadata": {},
   "outputs": [],
   "source": [
    "# Creating DataFrame from SQL\n",
    "df = acquire.get_telco_data()"
   ]
  },
  {
   "cell_type": "code",
   "execution_count": 228,
   "id": "128d7541",
   "metadata": {},
   "outputs": [],
   "source": [
    "# Remove useless columns from incoming dataframe\n",
    "df = df.drop(columns = ['internet_service_type_id', 'contract_type_id', 'payment_type_id'])\n",
    "\n",
    "# Fix incoming dataframe column with numerical values set as string type\n",
    "df = df.loc[:,~df.columns.duplicated()].copy()\n",
    "\n",
    "# Fix incoming dataframe column with numerical values set as string type\n",
    "df['total_charges'] = (df.total_charges + '0').astype('float')\n",
    "\n",
    "# Creating New Feature\n",
    "addons = ['online_security','online_backup','device_protection', 'tech_support', 'streaming_tv','streaming_movies']\n",
    "addon_sum=(df[addons]=='Yes').sum(axis=1)\n",
    "df=df.assign(addon_sum=addon_sum)"
   ]
  },
  {
   "cell_type": "code",
   "execution_count": 229,
   "id": "06406c2b",
   "metadata": {
    "scrolled": false
   },
   "outputs": [
    {
     "data": {
      "text/plain": [
       "7043"
      ]
     },
     "execution_count": 229,
     "metadata": {},
     "output_type": "execute_result"
    }
   ],
   "source": [
    "df['customer_id'].size"
   ]
  },
  {
   "cell_type": "code",
   "execution_count": 202,
   "id": "94708976",
   "metadata": {},
   "outputs": [],
   "source": [
    "# Save DF as CSV\n",
    "import os  \n",
    "os.makedirs('tableau', exist_ok=True)  \n",
    "df.to_csv('tableau/out.csv')"
   ]
  },
  {
   "cell_type": "code",
   "execution_count": 203,
   "id": "f183c8be",
   "metadata": {},
   "outputs": [
    {
     "data": {
      "text/plain": [
       "1869"
      ]
     },
     "execution_count": 203,
     "metadata": {},
     "output_type": "execute_result"
    }
   ],
   "source": [
    "df[df['churn']=='Yes']['churn'].count()"
   ]
  },
  {
   "cell_type": "code",
   "execution_count": 204,
   "id": "4b7b12e7",
   "metadata": {},
   "outputs": [
    {
     "data": {
      "text/plain": [
       "5174"
      ]
     },
     "execution_count": 204,
     "metadata": {},
     "output_type": "execute_result"
    }
   ],
   "source": [
    "df[df['churn']=='No']['churn'].count()"
   ]
  },
  {
   "cell_type": "code",
   "execution_count": 205,
   "id": "1cdfc717",
   "metadata": {},
   "outputs": [
    {
     "data": {
      "text/plain": [
       "Index(['customer_id', 'gender', 'senior_citizen', 'partner', 'dependents',\n",
       "       'tenure', 'phone_service', 'multiple_lines', 'online_security',\n",
       "       'online_backup', 'device_protection', 'tech_support', 'streaming_tv',\n",
       "       'streaming_movies', 'paperless_billing', 'monthly_charges',\n",
       "       'total_charges', 'churn', 'internet_service_type', 'payment_type',\n",
       "       'contract_type', 'churn_month', 'signup_date', 'addon_sum'],\n",
       "      dtype='object')"
      ]
     },
     "execution_count": 205,
     "metadata": {},
     "output_type": "execute_result"
    }
   ],
   "source": [
    "df.columns"
   ]
  },
  {
   "cell_type": "code",
   "execution_count": 206,
   "id": "0b9211a8",
   "metadata": {},
   "outputs": [
    {
     "data": {
      "text/html": [
       "<div>\n",
       "<style scoped>\n",
       "    .dataframe tbody tr th:only-of-type {\n",
       "        vertical-align: middle;\n",
       "    }\n",
       "\n",
       "    .dataframe tbody tr th {\n",
       "        vertical-align: top;\n",
       "    }\n",
       "\n",
       "    .dataframe thead th {\n",
       "        text-align: right;\n",
       "    }\n",
       "</style>\n",
       "<table border=\"1\" class=\"dataframe\">\n",
       "  <thead>\n",
       "    <tr style=\"text-align: right;\">\n",
       "      <th></th>\n",
       "      <th>customer_id</th>\n",
       "      <th>gender</th>\n",
       "      <th>senior_citizen</th>\n",
       "      <th>partner</th>\n",
       "      <th>dependents</th>\n",
       "      <th>tenure</th>\n",
       "      <th>phone_service</th>\n",
       "      <th>multiple_lines</th>\n",
       "      <th>online_security</th>\n",
       "      <th>online_backup</th>\n",
       "      <th>...</th>\n",
       "      <th>paperless_billing</th>\n",
       "      <th>monthly_charges</th>\n",
       "      <th>total_charges</th>\n",
       "      <th>churn</th>\n",
       "      <th>internet_service_type</th>\n",
       "      <th>payment_type</th>\n",
       "      <th>contract_type</th>\n",
       "      <th>churn_month</th>\n",
       "      <th>signup_date</th>\n",
       "      <th>addon_sum</th>\n",
       "    </tr>\n",
       "  </thead>\n",
       "  <tbody>\n",
       "    <tr>\n",
       "      <th>0</th>\n",
       "      <td>0002-ORFBO</td>\n",
       "      <td>Female</td>\n",
       "      <td>0</td>\n",
       "      <td>Yes</td>\n",
       "      <td>Yes</td>\n",
       "      <td>9</td>\n",
       "      <td>Yes</td>\n",
       "      <td>No</td>\n",
       "      <td>No</td>\n",
       "      <td>Yes</td>\n",
       "      <td>...</td>\n",
       "      <td>Yes</td>\n",
       "      <td>65.6</td>\n",
       "      <td>593.3</td>\n",
       "      <td>No</td>\n",
       "      <td>DSL</td>\n",
       "      <td>Mailed check</td>\n",
       "      <td>One year</td>\n",
       "      <td>None</td>\n",
       "      <td>2021-04-21 18:07:34</td>\n",
       "      <td>3</td>\n",
       "    </tr>\n",
       "  </tbody>\n",
       "</table>\n",
       "<p>1 rows × 24 columns</p>\n",
       "</div>"
      ],
      "text/plain": [
       "  customer_id  gender  senior_citizen partner dependents  tenure  \\\n",
       "0  0002-ORFBO  Female               0     Yes        Yes       9   \n",
       "\n",
       "  phone_service multiple_lines online_security online_backup  ...  \\\n",
       "0           Yes             No              No           Yes  ...   \n",
       "\n",
       "  paperless_billing monthly_charges total_charges churn internet_service_type  \\\n",
       "0               Yes            65.6         593.3    No                   DSL   \n",
       "\n",
       "   payment_type  contract_type churn_month         signup_date addon_sum  \n",
       "0  Mailed check       One year        None 2021-04-21 18:07:34         3  \n",
       "\n",
       "[1 rows x 24 columns]"
      ]
     },
     "execution_count": 206,
     "metadata": {},
     "output_type": "execute_result"
    }
   ],
   "source": [
    "df[df['churn']=='No'].head(1)"
   ]
  },
  {
   "cell_type": "code",
   "execution_count": 207,
   "id": "7ac0245e",
   "metadata": {},
   "outputs": [
    {
     "data": {
      "text/plain": [
       "churn\n",
       "No     5174\n",
       "Yes    1869\n",
       "Name: churn, dtype: int64"
      ]
     },
     "execution_count": 207,
     "metadata": {},
     "output_type": "execute_result"
    }
   ],
   "source": [
    "df.groupby(['churn'])['churn'].count()"
   ]
  },
  {
   "cell_type": "code",
   "execution_count": 208,
   "id": "619db53d",
   "metadata": {},
   "outputs": [
    {
     "data": {
      "text/plain": [
       "addon_sum\n",
       "0    2219\n",
       "1     966\n",
       "2    1033\n",
       "3    1118\n",
       "4     852\n",
       "5     571\n",
       "6     284\n",
       "Name: addon_sum, dtype: int64"
      ]
     },
     "execution_count": 208,
     "metadata": {},
     "output_type": "execute_result"
    }
   ],
   "source": [
    "df.groupby(['addon_sum'])['addon_sum'].count()"
   ]
  },
  {
   "cell_type": "code",
   "execution_count": 209,
   "id": "e89ec202",
   "metadata": {},
   "outputs": [],
   "source": [
    "churn_percent = df[df['churn']=='Yes']['churn'].count() / df['churn'].count()"
   ]
  },
  {
   "cell_type": "code",
   "execution_count": 210,
   "id": "86295c6f",
   "metadata": {},
   "outputs": [
    {
     "name": "stdout",
     "output_type": "stream",
     "text": [
      "0.265\n"
     ]
    }
   ],
   "source": [
    "print(round(churn_percent,3))"
   ]
  },
  {
   "cell_type": "code",
   "execution_count": 212,
   "id": "ed3d4e45",
   "metadata": {},
   "outputs": [
    {
     "data": {
      "text/plain": [
       "0        No\n",
       "1        No\n",
       "2       Yes\n",
       "3       Yes\n",
       "4       Yes\n",
       "       ... \n",
       "7038     No\n",
       "7039    Yes\n",
       "7040    Yes\n",
       "7041     No\n",
       "7042     No\n",
       "Name: churn, Length: 7043, dtype: object"
      ]
     },
     "execution_count": 212,
     "metadata": {},
     "output_type": "execute_result"
    }
   ],
   "source": [
    "df['churn']"
   ]
  },
  {
   "cell_type": "code",
   "execution_count": 213,
   "id": "025312fd",
   "metadata": {},
   "outputs": [
    {
     "data": {
      "text/plain": [
       "6"
      ]
     },
     "execution_count": 213,
     "metadata": {},
     "output_type": "execute_result"
    }
   ],
   "source": [
    "# Highest Possible Addon Count\n",
    "df['addon_sum'].idxmax()"
   ]
  },
  {
   "cell_type": "code",
   "execution_count": 214,
   "id": "756944a3",
   "metadata": {},
   "outputs": [
    {
     "data": {
      "text/plain": [
       "addon_sum  churn\n",
       "0          No       1744\n",
       "           Yes       475\n",
       "1          No        524\n",
       "           Yes       442\n",
       "2          No        663\n",
       "           Yes       370\n",
       "3          No        812\n",
       "           Yes       306\n",
       "4          No        662\n",
       "           Yes       190\n",
       "5          No        500\n",
       "           Yes        71\n",
       "6          No        269\n",
       "           Yes        15\n",
       "Name: churn, dtype: int64"
      ]
     },
     "execution_count": 214,
     "metadata": {},
     "output_type": "execute_result"
    }
   ],
   "source": [
    "df.groupby(['addon_sum','churn'])['churn'].count()"
   ]
  },
  {
   "cell_type": "code",
   "execution_count": 215,
   "id": "ea5d57f8",
   "metadata": {},
   "outputs": [
    {
     "data": {
      "text/plain": [
       "addon_sum\n",
       "0    475\n",
       "1    442\n",
       "2    370\n",
       "3    306\n",
       "4    190\n",
       "5     71\n",
       "6     15\n",
       "Name: addon_sum, dtype: int64"
      ]
     },
     "execution_count": 215,
     "metadata": {},
     "output_type": "execute_result"
    }
   ],
   "source": [
    "df[df['churn']=='Yes'].groupby(['addon_sum'])['addon_sum'].count()"
   ]
  },
  {
   "cell_type": "code",
   "execution_count": 216,
   "id": "2f879b2f",
   "metadata": {},
   "outputs": [
    {
     "name": "stdout",
     "output_type": "stream",
     "text": [
      "33\n",
      "72\n",
      "64\n",
      "116\n",
      "119\n",
      "56\n"
     ]
    }
   ],
   "source": [
    "# Looping through total of each CHURN of ADDON_SUM and finding DIFFERENCE\n",
    "for i in range(df['addon_sum'].idxmax()):\n",
    "    loop_current_total = df[(df['churn']=='Yes') & (df['addon_sum']==(i))]['churn'].count()\n",
    "    if i >= 1 & i<5:\n",
    "        next_current_total = df[(df['churn']=='Yes') & (df['addon_sum']==(i+1))]['churn'].count()\n",
    "        print(loop_current_total - next_current_total)"
   ]
  },
  {
   "cell_type": "code",
   "execution_count": 217,
   "id": "e4918b29",
   "metadata": {},
   "outputs": [
    {
     "data": {
      "text/plain": [
       "442"
      ]
     },
     "execution_count": 217,
     "metadata": {},
     "output_type": "execute_result"
    }
   ],
   "source": [
    "df[(df['churn']=='Yes') & (df['addon_sum']==1)]['churn'].count()"
   ]
  },
  {
   "cell_type": "code",
   "execution_count": 218,
   "id": "4214d7db",
   "metadata": {},
   "outputs": [],
   "source": [
    "churn_chart = pd.DataFrame(df[df['churn']=='No'].groupby(['addon_sum'])['addon_sum'].count())"
   ]
  },
  {
   "cell_type": "code",
   "execution_count": 219,
   "id": "e29c4867",
   "metadata": {
    "scrolled": true
   },
   "outputs": [
    {
     "data": {
      "text/html": [
       "<div>\n",
       "<style scoped>\n",
       "    .dataframe tbody tr th:only-of-type {\n",
       "        vertical-align: middle;\n",
       "    }\n",
       "\n",
       "    .dataframe tbody tr th {\n",
       "        vertical-align: top;\n",
       "    }\n",
       "\n",
       "    .dataframe thead th {\n",
       "        text-align: right;\n",
       "    }\n",
       "</style>\n",
       "<table border=\"1\" class=\"dataframe\">\n",
       "  <thead>\n",
       "    <tr style=\"text-align: right;\">\n",
       "      <th>addon_sum</th>\n",
       "      <th>0</th>\n",
       "      <th>1</th>\n",
       "      <th>2</th>\n",
       "      <th>3</th>\n",
       "      <th>4</th>\n",
       "      <th>5</th>\n",
       "      <th>6</th>\n",
       "    </tr>\n",
       "  </thead>\n",
       "  <tbody>\n",
       "    <tr>\n",
       "      <th>addon_sum</th>\n",
       "      <td>1744</td>\n",
       "      <td>524</td>\n",
       "      <td>663</td>\n",
       "      <td>812</td>\n",
       "      <td>662</td>\n",
       "      <td>500</td>\n",
       "      <td>269</td>\n",
       "    </tr>\n",
       "  </tbody>\n",
       "</table>\n",
       "</div>"
      ],
      "text/plain": [
       "addon_sum     0    1    2    3    4    5    6\n",
       "addon_sum  1744  524  663  812  662  500  269"
      ]
     },
     "execution_count": 219,
     "metadata": {},
     "output_type": "execute_result"
    }
   ],
   "source": [
    "churn_chart.T"
   ]
  },
  {
   "cell_type": "code",
   "execution_count": 220,
   "id": "ae5e5ea3",
   "metadata": {},
   "outputs": [
    {
     "data": {
      "text/plain": [
       "Index(['customer_id', 'gender', 'senior_citizen', 'partner', 'dependents',\n",
       "       'tenure', 'phone_service', 'multiple_lines', 'online_security',\n",
       "       'online_backup', 'device_protection', 'tech_support', 'streaming_tv',\n",
       "       'streaming_movies', 'paperless_billing', 'monthly_charges',\n",
       "       'total_charges', 'churn', 'internet_service_type', 'payment_type',\n",
       "       'contract_type', 'churn_month', 'signup_date', 'addon_sum'],\n",
       "      dtype='object')"
      ]
     },
     "execution_count": 220,
     "metadata": {},
     "output_type": "execute_result"
    }
   ],
   "source": [
    "df.columns"
   ]
  },
  {
   "cell_type": "code",
   "execution_count": 221,
   "id": "e803ca3c",
   "metadata": {},
   "outputs": [],
   "source": [
    "churn_chart_2 = df.groupby(['addon_sum','churn'])['churn'].count()"
   ]
  },
  {
   "cell_type": "code",
   "execution_count": 141,
   "id": "97a274ae",
   "metadata": {},
   "outputs": [
    {
     "data": {
      "text/plain": [
       "(7043, 24)"
      ]
     },
     "execution_count": 141,
     "metadata": {},
     "output_type": "execute_result"
    }
   ],
   "source": [
    "df.shape"
   ]
  },
  {
   "cell_type": "code",
   "execution_count": 150,
   "id": "620dc165",
   "metadata": {},
   "outputs": [
    {
     "data": {
      "text/plain": [
       "459"
      ]
     },
     "execution_count": 150,
     "metadata": {},
     "output_type": "execute_result"
    }
   ],
   "source": [
    "df[(df['internet_service_type']=='DSL')&(df['churn']=='Yes')]['churn'].count()"
   ]
  },
  {
   "cell_type": "code",
   "execution_count": 172,
   "id": "1833d0cb",
   "metadata": {},
   "outputs": [
    {
     "data": {
      "text/plain": [
       "459"
      ]
     },
     "execution_count": 172,
     "metadata": {},
     "output_type": "execute_result"
    }
   ],
   "source": [
    "df[(df['internet_service_type']=='DSL')&(df['churn']=='Yes')]['churn'].count()"
   ]
  },
  {
   "cell_type": "code",
   "execution_count": null,
   "id": "797f0b95",
   "metadata": {},
   "outputs": [],
   "source": [
    "df[df['churn']=='Yes'][inte].count()"
   ]
  },
  {
   "cell_type": "code",
   "execution_count": null,
   "id": "d6ef2047",
   "metadata": {},
   "outputs": [],
   "source": [
    "for i in df.columns:\n",
    "    print(df[df['churn']=='Yes'][i].count())"
   ]
  },
  {
   "cell_type": "code",
   "execution_count": 173,
   "id": "63993372",
   "metadata": {},
   "outputs": [
    {
     "data": {
      "text/plain": [
       "476"
      ]
     },
     "execution_count": 173,
     "metadata": {},
     "output_type": "execute_result"
    }
   ],
   "source": [
    "df[(df['senior_citizen']==True) & (df['churn']=='Yes')]['churn'].count()"
   ]
  },
  {
   "cell_type": "code",
   "execution_count": 180,
   "id": "fac368f7",
   "metadata": {},
   "outputs": [
    {
     "data": {
      "text/plain": [
       "0        9\n",
       "1        9\n",
       "2        4\n",
       "3       13\n",
       "4        3\n",
       "        ..\n",
       "7038     7\n",
       "7039     1\n",
       "7040     4\n",
       "7041     2\n",
       "7042    63\n",
       "Name: tenure, Length: 7043, dtype: int64"
      ]
     },
     "execution_count": 180,
     "metadata": {},
     "output_type": "execute_result"
    }
   ],
   "source": [
    "df['tenure']"
   ]
  },
  {
   "cell_type": "code",
   "execution_count": 168,
   "id": "9943745b",
   "metadata": {},
   "outputs": [],
   "source": [
    "# create bins of equal intervals\n",
    "tenure_bins = pd.cut(df['tenure'], 4)"
   ]
  },
  {
   "cell_type": "code",
   "execution_count": 222,
   "id": "c1ba899e",
   "metadata": {},
   "outputs": [
    {
     "data": {
      "text/plain": [
       "0       (-0.072, 18.0]\n",
       "1       (-0.072, 18.0]\n",
       "2       (-0.072, 18.0]\n",
       "3       (-0.072, 18.0]\n",
       "4       (-0.072, 18.0]\n",
       "             ...      \n",
       "7038    (-0.072, 18.0]\n",
       "7039    (-0.072, 18.0]\n",
       "7040    (-0.072, 18.0]\n",
       "7041    (-0.072, 18.0]\n",
       "7042      (54.0, 72.0]\n",
       "Name: tenure, Length: 7043, dtype: category\n",
       "Categories (4, interval[float64, right]): [(-0.072, 18.0] < (18.0, 36.0] < (36.0, 54.0] < (54.0, 72.0]]"
      ]
     },
     "execution_count": 222,
     "metadata": {},
     "output_type": "execute_result"
    }
   ],
   "source": [
    "tenure_bins"
   ]
  },
  {
   "cell_type": "code",
   "execution_count": 181,
   "id": "8641c0f9",
   "metadata": {},
   "outputs": [],
   "source": [
    "def eval_results(p, alpha, group1, group2):\n",
    "    '''\n",
    "    this function will take in the p-value, alpha, and a name for the 2 variables\n",
    "    you are comparing (group1 and group2) and return a string stating \n",
    "    whether or not there exists a relationship between the 2 groups. \n",
    "    '''\n",
    "    if p < alpha:\n",
    "        return f'There exists some relationship between {group1} and {group2}. (p-value: {p:.4f})'\n",
    "    else:\n",
    "        return f'There is not a significant relationship between {group1} and {group2}. (p-value: {p:.4f})'"
   ]
  },
  {
   "cell_type": "code",
   "execution_count": 186,
   "id": "f03ef6aa",
   "metadata": {},
   "outputs": [],
   "source": [
    "group1='addon_sum'\n",
    "group2='churn'"
   ]
  },
  {
   "cell_type": "code",
   "execution_count": 190,
   "id": "cf8f194b",
   "metadata": {},
   "outputs": [
    {
     "name": "stdout",
     "output_type": "stream",
     "text": [
      "Observed Values\n",
      "\n",
      "[[1520 1214]\n",
      " [1011  297]\n",
      " [ 969  213]\n",
      " [1674  145]]\n",
      "------\n",
      "Expected Values\n",
      "\n",
      "[[2008  725]\n",
      " [ 960  347]\n",
      " [ 868  313]\n",
      " [1336  482]]\n",
      "-----\n",
      "\n",
      "chi^2 =  823.1179\n",
      "p-value =  0.0000\n",
      "Is p-value < alpha? True\n"
     ]
    },
    {
     "data": {
      "text/plain": [
       "'There exists some relationship between gender and churn. (p-value: 0.0000)'"
      ]
     },
     "execution_count": 190,
     "metadata": {},
     "output_type": "execute_result"
    }
   ],
   "source": [
    "observed = pd.crosstab(tenure_bins, df[group2])\n",
    "alpha = 0.05\n",
    "chi2, p, dof, expected = stats.chi2_contingency(observed)\n",
    "observed_out = observed.values\n",
    "expected_out = expected.astype(int)\n",
    "# print 'Observed Values' followed by a new line\n",
    "print('Observed Values\\n')\n",
    "\n",
    "# print the values from the 'observed' dataframe\n",
    "print(observed_out)\n",
    "\n",
    "# print --- and then a new line, 'Expected Values', followed by another new line\n",
    "print('------\\nExpected Values\\n')\n",
    "\n",
    "# print the expected values array\n",
    "print(expected_out)\n",
    "\n",
    "# print a new line\n",
    "print('-----\\n')\n",
    "\n",
    "# print the chi2 value, formatted to a float with 4 digits. \n",
    "print(f'chi^2 = {chi2: .4f}')\n",
    "\n",
    "# print the p-value, formatted to a float with 4 digits. \n",
    "print(f'p-value = {p: .4f}')\n",
    "print('Is p-value < alpha?', p < alpha)\n",
    "\n",
    "eval_results(p, alpha, group1, group2)"
   ]
  },
  {
   "cell_type": "code",
   "execution_count": null,
   "id": "5904e436",
   "metadata": {},
   "outputs": [],
   "source": []
  },
  {
   "cell_type": "code",
   "execution_count": 223,
   "id": "ce9cbbf2",
   "metadata": {},
   "outputs": [
    {
     "data": {
      "text/plain": [
       "Index(['customer_id', 'gender', 'senior_citizen', 'partner', 'dependents',\n",
       "       'tenure', 'phone_service', 'multiple_lines', 'online_security',\n",
       "       'online_backup', 'device_protection', 'tech_support', 'streaming_tv',\n",
       "       'streaming_movies', 'paperless_billing', 'monthly_charges',\n",
       "       'total_charges', 'churn', 'internet_service_type', 'payment_type',\n",
       "       'contract_type', 'churn_month', 'signup_date', 'addon_sum'],\n",
       "      dtype='object')"
      ]
     },
     "execution_count": 223,
     "metadata": {},
     "output_type": "execute_result"
    }
   ],
   "source": [
    "df.columns"
   ]
  },
  {
   "cell_type": "code",
   "execution_count": 258,
   "id": "f0084aea",
   "metadata": {},
   "outputs": [
    {
     "data": {
      "text/plain": [
       "<AxesSubplot: xlabel='tenure', ylabel='count'>"
      ]
     },
     "execution_count": 258,
     "metadata": {},
     "output_type": "execute_result"
    },
    {
     "data": {
      "image/png": "[encoded data removed]",
      "text/plain": [
       "<Figure size 640x480 with 1 Axes>"
      ]
     },
     "metadata": {},
     "output_type": "display_data"
    }
   ],
   "source": [
    "# create bins of equal intervals\n",
    "tenure_bins = pd.cut(df['tenure'], 5)\n",
    "\n",
    "# plot\n",
    "sns.countplot(x=tenure_bins, color='grey',hue=df['churn'])"
   ]
  },
  {
   "cell_type": "markdown",
   "id": "07fd4db0",
   "metadata": {},
   "source": [
    "\\chi"
   ]
  },
  {
   "cell_type": "code",
   "execution_count": null,
   "id": "05dd09d4",
   "metadata": {},
   "outputs": [],
   "source": [
    "teset_csv"
   ]
  },
  {
   "cell_type": "code",
   "execution_count": null,
   "id": "69cb3c75",
   "metadata": {},
   "outputs": [],
   "source": []
  },
  {
   "cell_type": "code",
   "execution_count": 231,
   "id": "8113df1b",
   "metadata": {},
   "outputs": [
    {
     "ename": "TypeError",
     "evalue": "no numeric data to plot",
     "output_type": "error",
     "traceback": [
      "\u001b[0;31m---------------------------------------------------------------------------\u001b[0m",
      "\u001b[0;31mTypeError\u001b[0m                                 Traceback (most recent call last)",
      "Cell \u001b[0;32mIn[231], line 5\u001b[0m\n\u001b[1;32m      1\u001b[0m speed \u001b[38;5;241m=\u001b[39m df[\u001b[38;5;124m'\u001b[39m\u001b[38;5;124mchurn\u001b[39m\u001b[38;5;124m'\u001b[39m]\n\u001b[1;32m      3\u001b[0m plot_tenure \u001b[38;5;241m=\u001b[39m pd\u001b[38;5;241m.\u001b[39mDataFrame({\u001b[38;5;124m'\u001b[39m\u001b[38;5;124mchurn\u001b[39m\u001b[38;5;124m'\u001b[39m: speed,\n\u001b[1;32m      4\u001b[0m                     \u001b[38;5;124m'\u001b[39m\u001b[38;5;124mtenure\u001b[39m\u001b[38;5;124m'\u001b[39m: tenure_bins})\n\u001b[0;32m----> 5\u001b[0m ax \u001b[38;5;241m=\u001b[39m \u001b[43mplot_tenure\u001b[49m\u001b[38;5;241;43m.\u001b[39;49m\u001b[43mplot\u001b[49m\u001b[38;5;241;43m.\u001b[39;49m\u001b[43mbar\u001b[49m\u001b[43m(\u001b[49m\u001b[43mrot\u001b[49m\u001b[38;5;241;43m=\u001b[39;49m\u001b[38;5;241;43m0\u001b[39;49m\u001b[43m)\u001b[49m\n",
      "File \u001b[0;32m/opt/homebrew/anaconda3/lib/python3.9/site-packages/pandas/plotting/_core.py:1131\u001b[0m, in \u001b[0;36mPlotAccessor.bar\u001b[0;34m(self, x, y, **kwargs)\u001b[0m\n\u001b[1;32m   1043\u001b[0m \u001b[38;5;129m@Appender\u001b[39m(\n\u001b[1;32m   1044\u001b[0m     \u001b[38;5;124;03m\"\"\"\u001b[39;00m\n\u001b[1;32m   1045\u001b[0m \u001b[38;5;124;03m    See Also\u001b[39;00m\n\u001b[0;32m   (...)\u001b[0m\n\u001b[1;32m   1120\u001b[0m \u001b[38;5;129m@Appender\u001b[39m(_bar_or_line_doc)\n\u001b[1;32m   1121\u001b[0m \u001b[38;5;28;01mdef\u001b[39;00m \u001b[38;5;21mbar\u001b[39m(\u001b[38;5;28mself\u001b[39m, x\u001b[38;5;241m=\u001b[39m\u001b[38;5;28;01mNone\u001b[39;00m, y\u001b[38;5;241m=\u001b[39m\u001b[38;5;28;01mNone\u001b[39;00m, \u001b[38;5;241m*\u001b[39m\u001b[38;5;241m*\u001b[39mkwargs):\n\u001b[1;32m   1122\u001b[0m     \u001b[38;5;124;03m\"\"\"\u001b[39;00m\n\u001b[1;32m   1123\u001b[0m \u001b[38;5;124;03m    Vertical bar plot.\u001b[39;00m\n\u001b[1;32m   1124\u001b[0m \n\u001b[0;32m   (...)\u001b[0m\n\u001b[1;32m   1129\u001b[0m \u001b[38;5;124;03m    other axis represents a measured value.\u001b[39;00m\n\u001b[1;32m   1130\u001b[0m \u001b[38;5;124;03m    \"\"\"\u001b[39;00m\n\u001b[0;32m-> 1131\u001b[0m     \u001b[38;5;28;01mreturn\u001b[39;00m \u001b[38;5;28;43mself\u001b[39;49m\u001b[43m(\u001b[49m\u001b[43mkind\u001b[49m\u001b[38;5;241;43m=\u001b[39;49m\u001b[38;5;124;43m\"\u001b[39;49m\u001b[38;5;124;43mbar\u001b[39;49m\u001b[38;5;124;43m\"\u001b[39;49m\u001b[43m,\u001b[49m\u001b[43m \u001b[49m\u001b[43mx\u001b[49m\u001b[38;5;241;43m=\u001b[39;49m\u001b[43mx\u001b[49m\u001b[43m,\u001b[49m\u001b[43m \u001b[49m\u001b[43my\u001b[49m\u001b[38;5;241;43m=\u001b[39;49m\u001b[43my\u001b[49m\u001b[43m,\u001b[49m\u001b[43m \u001b[49m\u001b[38;5;241;43m*\u001b[39;49m\u001b[38;5;241;43m*\u001b[39;49m\u001b[43mkwargs\u001b[49m\u001b[43m)\u001b[49m\n",
      "File \u001b[0;32m/opt/homebrew/anaconda3/lib/python3.9/site-packages/pandas/plotting/_core.py:972\u001b[0m, in \u001b[0;36mPlotAccessor.__call__\u001b[0;34m(self, *args, **kwargs)\u001b[0m\n\u001b[1;32m    969\u001b[0m             label_name \u001b[38;5;241m=\u001b[39m label_kw \u001b[38;5;129;01mor\u001b[39;00m data\u001b[38;5;241m.\u001b[39mcolumns\n\u001b[1;32m    970\u001b[0m             data\u001b[38;5;241m.\u001b[39mcolumns \u001b[38;5;241m=\u001b[39m label_name\n\u001b[0;32m--> 972\u001b[0m \u001b[38;5;28;01mreturn\u001b[39;00m \u001b[43mplot_backend\u001b[49m\u001b[38;5;241;43m.\u001b[39;49m\u001b[43mplot\u001b[49m\u001b[43m(\u001b[49m\u001b[43mdata\u001b[49m\u001b[43m,\u001b[49m\u001b[43m \u001b[49m\u001b[43mkind\u001b[49m\u001b[38;5;241;43m=\u001b[39;49m\u001b[43mkind\u001b[49m\u001b[43m,\u001b[49m\u001b[43m \u001b[49m\u001b[38;5;241;43m*\u001b[39;49m\u001b[38;5;241;43m*\u001b[39;49m\u001b[43mkwargs\u001b[49m\u001b[43m)\u001b[49m\n",
      "File \u001b[0;32m/opt/homebrew/anaconda3/lib/python3.9/site-packages/pandas/plotting/_matplotlib/__init__.py:71\u001b[0m, in \u001b[0;36mplot\u001b[0;34m(data, kind, **kwargs)\u001b[0m\n\u001b[1;32m     69\u001b[0m         kwargs[\u001b[38;5;124m\"\u001b[39m\u001b[38;5;124max\u001b[39m\u001b[38;5;124m\"\u001b[39m] \u001b[38;5;241m=\u001b[39m \u001b[38;5;28mgetattr\u001b[39m(ax, \u001b[38;5;124m\"\u001b[39m\u001b[38;5;124mleft_ax\u001b[39m\u001b[38;5;124m\"\u001b[39m, ax)\n\u001b[1;32m     70\u001b[0m plot_obj \u001b[38;5;241m=\u001b[39m PLOT_CLASSES[kind](data, \u001b[38;5;241m*\u001b[39m\u001b[38;5;241m*\u001b[39mkwargs)\n\u001b[0;32m---> 71\u001b[0m \u001b[43mplot_obj\u001b[49m\u001b[38;5;241;43m.\u001b[39;49m\u001b[43mgenerate\u001b[49m\u001b[43m(\u001b[49m\u001b[43m)\u001b[49m\n\u001b[1;32m     72\u001b[0m plot_obj\u001b[38;5;241m.\u001b[39mdraw()\n\u001b[1;32m     73\u001b[0m \u001b[38;5;28;01mreturn\u001b[39;00m plot_obj\u001b[38;5;241m.\u001b[39mresult\n",
      "File \u001b[0;32m/opt/homebrew/anaconda3/lib/python3.9/site-packages/pandas/plotting/_matplotlib/core.py:327\u001b[0m, in \u001b[0;36mMPLPlot.generate\u001b[0;34m(self)\u001b[0m\n\u001b[1;32m    325\u001b[0m \u001b[38;5;28;01mdef\u001b[39;00m \u001b[38;5;21mgenerate\u001b[39m(\u001b[38;5;28mself\u001b[39m):\n\u001b[1;32m    326\u001b[0m     \u001b[38;5;28mself\u001b[39m\u001b[38;5;241m.\u001b[39m_args_adjust()\n\u001b[0;32m--> 327\u001b[0m     \u001b[38;5;28;43mself\u001b[39;49m\u001b[38;5;241;43m.\u001b[39;49m\u001b[43m_compute_plot_data\u001b[49m\u001b[43m(\u001b[49m\u001b[43m)\u001b[49m\n\u001b[1;32m    328\u001b[0m     \u001b[38;5;28mself\u001b[39m\u001b[38;5;241m.\u001b[39m_setup_subplots()\n\u001b[1;32m    329\u001b[0m     \u001b[38;5;28mself\u001b[39m\u001b[38;5;241m.\u001b[39m_make_plot()\n",
      "File \u001b[0;32m/opt/homebrew/anaconda3/lib/python3.9/site-packages/pandas/plotting/_matplotlib/core.py:506\u001b[0m, in \u001b[0;36mMPLPlot._compute_plot_data\u001b[0;34m(self)\u001b[0m\n\u001b[1;32m    504\u001b[0m \u001b[38;5;66;03m# no non-numeric frames or series allowed\u001b[39;00m\n\u001b[1;32m    505\u001b[0m \u001b[38;5;28;01mif\u001b[39;00m is_empty:\n\u001b[0;32m--> 506\u001b[0m     \u001b[38;5;28;01mraise\u001b[39;00m \u001b[38;5;167;01mTypeError\u001b[39;00m(\u001b[38;5;124m\"\u001b[39m\u001b[38;5;124mno numeric data to plot\u001b[39m\u001b[38;5;124m\"\u001b[39m)\n\u001b[1;32m    508\u001b[0m \u001b[38;5;28mself\u001b[39m\u001b[38;5;241m.\u001b[39mdata \u001b[38;5;241m=\u001b[39m numeric_data\u001b[38;5;241m.\u001b[39mapply(\u001b[38;5;28mself\u001b[39m\u001b[38;5;241m.\u001b[39m_convert_to_ndarray)\n",
      "\u001b[0;31mTypeError\u001b[0m: no numeric data to plot"
     ]
    }
   ],
   "source": [
    "speed = df['churn']\n",
    "\n",
    "plot_tenure = pd.DataFrame({'churn': speed,\n",
    "                    'tenure': tenure_bins})\n",
    "plot_tenure."
   ]
  },
  {
   "cell_type": "code",
   "execution_count": 188,
   "id": "68185748",
   "metadata": {},
   "outputs": [],
   "source": [
    "group1='gender'\n",
    "group2='churn'"
   ]
  },
  {
   "cell_type": "code",
   "execution_count": 189,
   "id": "76466832",
   "metadata": {},
   "outputs": [
    {
     "name": "stdout",
     "output_type": "stream",
     "text": [
      "Observed Values\n",
      "\n",
      "[[2549  939]\n",
      " [2625  930]]\n",
      "------\n",
      "Expected Values\n",
      "\n",
      "[[2562  925]\n",
      " [2611  943]]\n",
      "-----\n",
      "\n",
      "chi^2 =  0.4841\n",
      "p-value =  0.4866\n",
      "Is p-value < alpha? False\n"
     ]
    },
    {
     "data": {
      "text/plain": [
       "'There is not a significant relationship between gender and churn. (p-value: 0.4866)'"
      ]
     },
     "execution_count": 189,
     "metadata": {},
     "output_type": "execute_result"
    }
   ],
   "source": [
    "observed = pd.crosstab(df[group1], df[group2])\n",
    "alpha = 0.05\n",
    "chi2, p, dof, expected = stats.chi2_contingency(observed)\n",
    "observed_out = observed.values\n",
    "expected_out = expected.astype(int)\n",
    "# print 'Observed Values' followed by a new line\n",
    "print('Observed Values\\n')\n",
    "\n",
    "# print the values from the 'observed' dataframe\n",
    "print(observed_out)\n",
    "\n",
    "# print --- and then a new line, 'Expected Values', followed by another new line\n",
    "print('------\\nExpected Values\\n')\n",
    "\n",
    "# print the expected values array\n",
    "print(expected_out)\n",
    "\n",
    "# print a new line\n",
    "print('-----\\n')\n",
    "\n",
    "# print the chi2 value, formatted to a float with 4 digits. \n",
    "print(f'chi^2 = {chi2: .4f}')\n",
    "\n",
    "# print the p-value, formatted to a float with 4 digits. \n",
    "print(f'p-value = {p: .4f}')\n",
    "print('Is p-value < alpha?', p < alpha)\n",
    "\n",
    "eval_results(p, alpha, group1, group2)"
   ]
  },
  {
   "cell_type": "code",
   "execution_count": 279,
   "id": "e9473d68",
   "metadata": {},
   "outputs": [
    {
     "data": {
      "text/plain": [
       "customer_id              917\n",
       "gender                   917\n",
       "senior_citizen           917\n",
       "partner                  917\n",
       "dependents               917\n",
       "tenure                   917\n",
       "phone_service            917\n",
       "multiple_lines           917\n",
       "online_security          917\n",
       "online_backup            917\n",
       "device_protection        917\n",
       "tech_support             917\n",
       "streaming_tv             917\n",
       "streaming_movies         917\n",
       "paperless_billing        917\n",
       "monthly_charges          917\n",
       "total_charges            917\n",
       "churn                    917\n",
       "internet_service_type    917\n",
       "payment_type             917\n",
       "contract_type            917\n",
       "churn_month              917\n",
       "signup_date              917\n",
       "addon_sum                917\n",
       "dtype: int64"
      ]
     },
     "execution_count": 279,
     "metadata": {},
     "output_type": "execute_result"
    }
   ],
   "source": [
    "df[(df['addon_sum']<=1)&(df['churn']=='Yes')].count()"
   ]
  },
  {
   "cell_type": "code",
   "execution_count": 303,
   "id": "2d3f57af",
   "metadata": {},
   "outputs": [
    {
     "ename": "KeyError",
     "evalue": "'tenure'",
     "output_type": "error",
     "traceback": [
      "\u001b[0;31m---------------------------------------------------------------------------\u001b[0m",
      "\u001b[0;31mKeyError\u001b[0m                                  Traceback (most recent call last)",
      "Cell \u001b[0;32mIn[303], line 1\u001b[0m\n\u001b[0;32m----> 1\u001b[0m \u001b[43mdf\u001b[49m\u001b[43m[\u001b[49m\u001b[38;5;124;43m'\u001b[39;49m\u001b[38;5;124;43mchurn\u001b[39;49m\u001b[38;5;124;43m'\u001b[39;49m\u001b[43m]\u001b[49m\u001b[38;5;241;43m.\u001b[39;49m\u001b[43mgroupby\u001b[49m\u001b[43m(\u001b[49m\u001b[38;5;124;43m'\u001b[39;49m\u001b[38;5;124;43mtenure\u001b[39;49m\u001b[38;5;124;43m'\u001b[39;49m\u001b[43m)\u001b[49m\n",
      "File \u001b[0;32m/opt/homebrew/anaconda3/lib/python3.9/site-packages/pandas/core/series.py:1922\u001b[0m, in \u001b[0;36mSeries.groupby\u001b[0;34m(self, by, axis, level, as_index, sort, group_keys, squeeze, observed, dropna)\u001b[0m\n\u001b[1;32m   1918\u001b[0m axis \u001b[38;5;241m=\u001b[39m \u001b[38;5;28mself\u001b[39m\u001b[38;5;241m.\u001b[39m_get_axis_number(axis)\n\u001b[1;32m   1920\u001b[0m \u001b[38;5;66;03m# error: Argument \"squeeze\" to \"SeriesGroupBy\" has incompatible type\u001b[39;00m\n\u001b[1;32m   1921\u001b[0m \u001b[38;5;66;03m# \"Union[bool, NoDefault]\"; expected \"bool\"\u001b[39;00m\n\u001b[0;32m-> 1922\u001b[0m \u001b[38;5;28;01mreturn\u001b[39;00m \u001b[43mSeriesGroupBy\u001b[49m\u001b[43m(\u001b[49m\n\u001b[1;32m   1923\u001b[0m \u001b[43m    \u001b[49m\u001b[43mobj\u001b[49m\u001b[38;5;241;43m=\u001b[39;49m\u001b[38;5;28;43mself\u001b[39;49m\u001b[43m,\u001b[49m\n\u001b[1;32m   1924\u001b[0m \u001b[43m    \u001b[49m\u001b[43mkeys\u001b[49m\u001b[38;5;241;43m=\u001b[39;49m\u001b[43mby\u001b[49m\u001b[43m,\u001b[49m\n\u001b[1;32m   1925\u001b[0m \u001b[43m    \u001b[49m\u001b[43maxis\u001b[49m\u001b[38;5;241;43m=\u001b[39;49m\u001b[43maxis\u001b[49m\u001b[43m,\u001b[49m\n\u001b[1;32m   1926\u001b[0m \u001b[43m    \u001b[49m\u001b[43mlevel\u001b[49m\u001b[38;5;241;43m=\u001b[39;49m\u001b[43mlevel\u001b[49m\u001b[43m,\u001b[49m\n\u001b[1;32m   1927\u001b[0m \u001b[43m    \u001b[49m\u001b[43mas_index\u001b[49m\u001b[38;5;241;43m=\u001b[39;49m\u001b[43mas_index\u001b[49m\u001b[43m,\u001b[49m\n\u001b[1;32m   1928\u001b[0m \u001b[43m    \u001b[49m\u001b[43msort\u001b[49m\u001b[38;5;241;43m=\u001b[39;49m\u001b[43msort\u001b[49m\u001b[43m,\u001b[49m\n\u001b[1;32m   1929\u001b[0m \u001b[43m    \u001b[49m\u001b[43mgroup_keys\u001b[49m\u001b[38;5;241;43m=\u001b[39;49m\u001b[43mgroup_keys\u001b[49m\u001b[43m,\u001b[49m\n\u001b[1;32m   1930\u001b[0m \u001b[43m    \u001b[49m\u001b[43msqueeze\u001b[49m\u001b[38;5;241;43m=\u001b[39;49m\u001b[43msqueeze\u001b[49m\u001b[43m,\u001b[49m\u001b[43m  \u001b[49m\u001b[38;5;66;43;03m# type: ignore[arg-type]\u001b[39;49;00m\n\u001b[1;32m   1931\u001b[0m \u001b[43m    \u001b[49m\u001b[43mobserved\u001b[49m\u001b[38;5;241;43m=\u001b[39;49m\u001b[43mobserved\u001b[49m\u001b[43m,\u001b[49m\n\u001b[1;32m   1932\u001b[0m \u001b[43m    \u001b[49m\u001b[43mdropna\u001b[49m\u001b[38;5;241;43m=\u001b[39;49m\u001b[43mdropna\u001b[49m\u001b[43m,\u001b[49m\n\u001b[1;32m   1933\u001b[0m \u001b[43m\u001b[49m\u001b[43m)\u001b[49m\n",
      "File \u001b[0;32m/opt/homebrew/anaconda3/lib/python3.9/site-packages/pandas/core/groupby/groupby.py:882\u001b[0m, in \u001b[0;36mGroupBy.__init__\u001b[0;34m(self, obj, keys, axis, level, grouper, exclusions, selection, as_index, sort, group_keys, squeeze, observed, mutated, dropna)\u001b[0m\n\u001b[1;32m    879\u001b[0m \u001b[38;5;28;01mif\u001b[39;00m grouper \u001b[38;5;129;01mis\u001b[39;00m \u001b[38;5;28;01mNone\u001b[39;00m:\n\u001b[1;32m    880\u001b[0m     \u001b[38;5;28;01mfrom\u001b[39;00m \u001b[38;5;21;01mpandas\u001b[39;00m\u001b[38;5;21;01m.\u001b[39;00m\u001b[38;5;21;01mcore\u001b[39;00m\u001b[38;5;21;01m.\u001b[39;00m\u001b[38;5;21;01mgroupby\u001b[39;00m\u001b[38;5;21;01m.\u001b[39;00m\u001b[38;5;21;01mgrouper\u001b[39;00m \u001b[38;5;28;01mimport\u001b[39;00m get_grouper\n\u001b[0;32m--> 882\u001b[0m     grouper, exclusions, obj \u001b[38;5;241m=\u001b[39m \u001b[43mget_grouper\u001b[49m\u001b[43m(\u001b[49m\n\u001b[1;32m    883\u001b[0m \u001b[43m        \u001b[49m\u001b[43mobj\u001b[49m\u001b[43m,\u001b[49m\n\u001b[1;32m    884\u001b[0m \u001b[43m        \u001b[49m\u001b[43mkeys\u001b[49m\u001b[43m,\u001b[49m\n\u001b[1;32m    885\u001b[0m \u001b[43m        \u001b[49m\u001b[43maxis\u001b[49m\u001b[38;5;241;43m=\u001b[39;49m\u001b[43maxis\u001b[49m\u001b[43m,\u001b[49m\n\u001b[1;32m    886\u001b[0m \u001b[43m        \u001b[49m\u001b[43mlevel\u001b[49m\u001b[38;5;241;43m=\u001b[39;49m\u001b[43mlevel\u001b[49m\u001b[43m,\u001b[49m\n\u001b[1;32m    887\u001b[0m \u001b[43m        \u001b[49m\u001b[43msort\u001b[49m\u001b[38;5;241;43m=\u001b[39;49m\u001b[43msort\u001b[49m\u001b[43m,\u001b[49m\n\u001b[1;32m    888\u001b[0m \u001b[43m        \u001b[49m\u001b[43mobserved\u001b[49m\u001b[38;5;241;43m=\u001b[39;49m\u001b[43mobserved\u001b[49m\u001b[43m,\u001b[49m\n\u001b[1;32m    889\u001b[0m \u001b[43m        \u001b[49m\u001b[43mmutated\u001b[49m\u001b[38;5;241;43m=\u001b[39;49m\u001b[38;5;28;43mself\u001b[39;49m\u001b[38;5;241;43m.\u001b[39;49m\u001b[43mmutated\u001b[49m\u001b[43m,\u001b[49m\n\u001b[1;32m    890\u001b[0m \u001b[43m        \u001b[49m\u001b[43mdropna\u001b[49m\u001b[38;5;241;43m=\u001b[39;49m\u001b[38;5;28;43mself\u001b[39;49m\u001b[38;5;241;43m.\u001b[39;49m\u001b[43mdropna\u001b[49m\u001b[43m,\u001b[49m\n\u001b[1;32m    891\u001b[0m \u001b[43m    \u001b[49m\u001b[43m)\u001b[49m\n\u001b[1;32m    893\u001b[0m \u001b[38;5;28mself\u001b[39m\u001b[38;5;241m.\u001b[39mobj \u001b[38;5;241m=\u001b[39m obj\n\u001b[1;32m    894\u001b[0m \u001b[38;5;28mself\u001b[39m\u001b[38;5;241m.\u001b[39maxis \u001b[38;5;241m=\u001b[39m obj\u001b[38;5;241m.\u001b[39m_get_axis_number(axis)\n",
      "File \u001b[0;32m/opt/homebrew/anaconda3/lib/python3.9/site-packages/pandas/core/groupby/grouper.py:882\u001b[0m, in \u001b[0;36mget_grouper\u001b[0;34m(obj, key, axis, level, sort, observed, mutated, validate, dropna)\u001b[0m\n\u001b[1;32m    880\u001b[0m         in_axis, level, gpr \u001b[38;5;241m=\u001b[39m \u001b[38;5;28;01mFalse\u001b[39;00m, gpr, \u001b[38;5;28;01mNone\u001b[39;00m\n\u001b[1;32m    881\u001b[0m     \u001b[38;5;28;01melse\u001b[39;00m:\n\u001b[0;32m--> 882\u001b[0m         \u001b[38;5;28;01mraise\u001b[39;00m \u001b[38;5;167;01mKeyError\u001b[39;00m(gpr)\n\u001b[1;32m    883\u001b[0m \u001b[38;5;28;01melif\u001b[39;00m \u001b[38;5;28misinstance\u001b[39m(gpr, Grouper) \u001b[38;5;129;01mand\u001b[39;00m gpr\u001b[38;5;241m.\u001b[39mkey \u001b[38;5;129;01mis\u001b[39;00m \u001b[38;5;129;01mnot\u001b[39;00m \u001b[38;5;28;01mNone\u001b[39;00m:\n\u001b[1;32m    884\u001b[0m     \u001b[38;5;66;03m# Add key to exclusions\u001b[39;00m\n\u001b[1;32m    885\u001b[0m     exclusions\u001b[38;5;241m.\u001b[39madd(gpr\u001b[38;5;241m.\u001b[39mkey)\n",
      "\u001b[0;31mKeyError\u001b[0m: 'tenure'"
     ]
    }
   ],
   "source": [
    "df['churn'].groupby('tenure')"
   ]
  },
  {
   "cell_type": "code",
   "execution_count": 304,
   "id": "f652dc33",
   "metadata": {},
   "outputs": [],
   "source": [
    "churn_v_tenure = pd.DataFrame(df[df['churn']=='No']['tenure'].value_counts(bins=10))"
   ]
  },
  {
   "cell_type": "code",
   "execution_count": null,
   "id": "5ac654d9",
   "metadata": {},
   "outputs": [],
   "source": []
  },
  {
   "cell_type": "code",
   "execution_count": 305,
   "id": "fae9e9a7",
   "metadata": {
    "scrolled": true
   },
   "outputs": [
    {
     "data": {
      "text/html": [
       "<div>\n",
       "<style scoped>\n",
       "    .dataframe tbody tr th:only-of-type {\n",
       "        vertical-align: middle;\n",
       "    }\n",
       "\n",
       "    .dataframe tbody tr th {\n",
       "        vertical-align: top;\n",
       "    }\n",
       "\n",
       "    .dataframe thead th {\n",
       "        text-align: right;\n",
       "    }\n",
       "</style>\n",
       "<table border=\"1\" class=\"dataframe\">\n",
       "  <thead>\n",
       "    <tr style=\"text-align: right;\">\n",
       "      <th></th>\n",
       "      <th>(64.8, 72.0]</th>\n",
       "      <th>(-0.073, 7.2]</th>\n",
       "      <th>(7.2, 14.4]</th>\n",
       "      <th>(57.6, 64.8]</th>\n",
       "      <th>(21.6, 28.8]</th>\n",
       "      <th>(28.8, 36.0]</th>\n",
       "      <th>(50.4, 57.6]</th>\n",
       "      <th>(14.4, 21.6]</th>\n",
       "      <th>(43.2, 50.4]</th>\n",
       "      <th>(36.0, 43.2]</th>\n",
       "    </tr>\n",
       "  </thead>\n",
       "  <tbody>\n",
       "    <tr>\n",
       "      <th>tenure</th>\n",
       "      <td>1037</td>\n",
       "      <td>777</td>\n",
       "      <td>495</td>\n",
       "      <td>455</td>\n",
       "      <td>430</td>\n",
       "      <td>428</td>\n",
       "      <td>425</td>\n",
       "      <td>401</td>\n",
       "      <td>380</td>\n",
       "      <td>346</td>\n",
       "    </tr>\n",
       "  </tbody>\n",
       "</table>\n",
       "</div>"
      ],
      "text/plain": [
       "        (64.8, 72.0]  (-0.073, 7.2]  (7.2, 14.4]  (57.6, 64.8]  (21.6, 28.8]  \\\n",
       "tenure          1037            777          495           455           430   \n",
       "\n",
       "        (28.8, 36.0]  (50.4, 57.6]  (14.4, 21.6]  (43.2, 50.4]  (36.0, 43.2]  \n",
       "tenure           428           425           401           380           346  "
      ]
     },
     "execution_count": 305,
     "metadata": {},
     "output_type": "execute_result"
    }
   ],
   "source": [
    "churn_v_tenure.T"
   ]
  },
  {
   "cell_type": "code",
   "execution_count": 299,
   "id": "b9213c74",
   "metadata": {},
   "outputs": [
    {
     "data": {
      "text/plain": [
       "customer_id              877\n",
       "gender                   877\n",
       "senior_citizen           877\n",
       "partner                  877\n",
       "dependents               877\n",
       "tenure                   877\n",
       "phone_service            877\n",
       "multiple_lines           877\n",
       "online_security          877\n",
       "online_backup            877\n",
       "device_protection        877\n",
       "tech_support             877\n",
       "streaming_tv             877\n",
       "streaming_movies         877\n",
       "paperless_billing        877\n",
       "monthly_charges          877\n",
       "total_charges            877\n",
       "churn                    877\n",
       "internet_service_type    877\n",
       "payment_type             877\n",
       "contract_type            877\n",
       "churn_month              877\n",
       "signup_date              877\n",
       "addon_sum                877\n",
       "dtype: int64"
      ]
     },
     "execution_count": 299,
     "metadata": {},
     "output_type": "execute_result"
    }
   ],
   "source": [
    "df[(df['tenure']<=8)&(df['churn']=='Yes')].count()"
   ]
  },
  {
   "cell_type": "code",
   "execution_count": 269,
   "id": "41fcecab",
   "metadata": {},
   "outputs": [
    {
     "data": {
      "text/plain": [
       "customer_id              7043\n",
       "gender                   7043\n",
       "senior_citizen           7043\n",
       "partner                  7043\n",
       "dependents               7043\n",
       "tenure                   7043\n",
       "phone_service            7043\n",
       "multiple_lines           7043\n",
       "online_security          7043\n",
       "online_backup            7043\n",
       "device_protection        7043\n",
       "tech_support             7043\n",
       "streaming_tv             7043\n",
       "streaming_movies         7043\n",
       "paperless_billing        7043\n",
       "monthly_charges          7043\n",
       "total_charges            7043\n",
       "churn                    7043\n",
       "internet_service_type    7043\n",
       "payment_type             7043\n",
       "contract_type            7043\n",
       "churn_month              1869\n",
       "signup_date              7043\n",
       "addon_sum                7043\n",
       "dtype: int64"
      ]
     },
     "execution_count": 269,
     "metadata": {},
     "output_type": "execute_result"
    }
   ],
   "source": [
    "df[(df['tenure']<100)].count()"
   ]
  },
  {
   "cell_type": "code",
   "execution_count": 262,
   "id": "6c681000",
   "metadata": {},
   "outputs": [
    {
     "data": {
      "text/plain": [
       "1869"
      ]
     },
     "execution_count": 262,
     "metadata": {},
     "output_type": "execute_result"
    }
   ],
   "source": [
    "df[df['churn']=='Yes']['tenure'].count()"
   ]
  }
 ],
 "metadata": {
  "kernelspec": {
   "display_name": "Python 3 (ipykernel)",
   "language": "python",
   "name": "python3"
  },
  "language_info": {
   "codemirror_mode": {
    "name": "ipython",
    "version": 3
   },
   "file_extension": ".py",
   "mimetype": "text/x-python",
   "name": "python",
   "nbconvert_exporter": "python",
   "pygments_lexer": "ipython3",
   "version": "3.9.15"
  }
 },
 "nbformat": 4,
 "nbformat_minor": 5
}
